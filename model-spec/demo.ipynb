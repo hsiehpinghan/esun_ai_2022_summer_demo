{
  "cells": [
    {
      "cell_type": "code",
      "source": [
        "!nvidia-smi"
      ],
      "metadata": {
        "id": "7o5nEWg6mGDD"
      },
      "id": "7o5nEWg6mGDD",
      "execution_count": null,
      "outputs": []
    },
    {
      "cell_type": "code",
      "source": [
        "#%cd /content\n",
        "#!rm -rf esun_ai_2022_summer_demo"
      ],
      "metadata": {
        "id": "_4bzPYAKEgfy"
      },
      "id": "_4bzPYAKEgfy",
      "execution_count": null,
      "outputs": []
    },
    {
      "cell_type": "code",
      "execution_count": null,
      "id": "0dc57d3d",
      "metadata": {
        "id": "0dc57d3d"
      },
      "outputs": [],
      "source": [
        "# 下載玉山規定的github\n",
        "!git clone https://github.com/hsiehpinghan/esun_ai_2022_summer_demo.git"
      ]
    },
    {
      "cell_type": "code",
      "source": [
        "# 安裝套件\n",
        "!pip install -r /content/esun_ai_2022_summer_demo/model-spec/requirements.txt"
      ],
      "metadata": {
        "id": "UNYeoZVWl62d"
      },
      "id": "UNYeoZVWl62d",
      "execution_count": null,
      "outputs": []
    },
    {
      "cell_type": "code",
      "source": [
        "import os\n",
        "import gdown\n",
        "\n",
        "from google.colab import files"
      ],
      "metadata": {
        "id": "C_MhJ6EqmELD"
      },
      "id": "C_MhJ6EqmELD",
      "execution_count": null,
      "outputs": []
    },
    {
      "cell_type": "code",
      "source": [
        "# 請上傳 2022summer_train_data.zip\n",
        "files.upload()"
      ],
      "metadata": {
        "id": "qqBD6Dwlqiu9"
      },
      "id": "qqBD6Dwlqiu9",
      "execution_count": null,
      "outputs": []
    },
    {
      "cell_type": "code",
      "source": [
        "def gdown_download(id, output_dir, output_file_name):\n",
        "    os.makedirs(name=output_dir,\n",
        "                exist_ok=True)\n",
        "    gdown.download(url=f'https://drive.google.com/uc?id={id}', \n",
        "                   output = os.path.join(output_dir, output_file_name), \n",
        "                   quiet = False)"
      ],
      "metadata": {
        "id": "cPEk_TSez0sT"
      },
      "id": "cPEk_TSez0sT",
      "execution_count": null,
      "outputs": []
    },
    {
      "cell_type": "markdown",
      "source": [
        "# 資料前處理"
      ],
      "metadata": {
        "id": "LFC-ke-Wpy6e"
      },
      "id": "LFC-ke-Wpy6e"
    },
    {
      "cell_type": "markdown",
      "source": [
        "一、 資料清洗：依比賽規則的說明，將非中文的字元移除。例如：\n",
        "\n",
        "原始資料：可能導致ab股市泡79沫再現\n",
        "\n",
        "清洗後資料：可能導致股市泡沫再現\n",
        "\n",
        "二、 找出詞的錯誤翻譯詞：比對ground_truth_sentence與sentence_list，找出每個詞可能被錯誤辨識成什麼字，例如” 股市”這個詞經過比對後可以找出曾被錯誤辨識成”不是”、 ”不適”、 ”古市”、 ”古式”、 ”告示”、 ”故事”等詞。\n",
        "\n",
        "三、 進行資料增強：除了玉山提供的訓練資料外，另外隨機將ground_truth_sentence資料中的詞替換成錯誤辨識的詞，並加入sentence_list一同訓練。例如”可能導致股市泡沫再現”這個句子可能替換成” 可能導致不是泡沫再現”、 ” 可能導致不適泡沫再現”、 ” 可能導致古市泡沫再現”、 ” 可能導致古式泡沫再現”、 ” 可能導致告示泡沫再現” 、 ” 可能導致故事泡沫再現”。"
      ],
      "metadata": {
        "id": "lIC31FFk6Kga"
      },
      "id": "lIC31FFk6Kga"
    },
    {
      "cell_type": "code",
      "source": [
        "%cd /content/esun_ai_2022_summer_demo/model-spec/data_preprocess"
      ],
      "metadata": {
        "id": "nyWTmqwSp4Li"
      },
      "id": "nyWTmqwSp4Li",
      "execution_count": null,
      "outputs": []
    },
    {
      "cell_type": "code",
      "source": [
        "!python ./data_preprocess.py --esun_data_path /content/2022summer_train_data.zip\\\n",
        "                             --extract_dir /content/data\\\n",
        "                             --limit_per_sentence 30\\\n",
        "                             --char_to_similarity_bert_ids_file_path /content/data/char_to_similarity_bert_ids.json"
      ],
      "metadata": {
        "id": "nTtj4rv8i_rX"
      },
      "id": "nTtj4rv8i_rX",
      "execution_count": null,
      "outputs": []
    },
    {
      "cell_type": "markdown",
      "source": [
        "# 模型訓練"
      ],
      "metadata": {
        "id": "c8adPqMskhnG"
      },
      "id": "c8adPqMskhnG"
    },
    {
      "cell_type": "markdown",
      "source": [
        "一、模型訓練：接著我們使用macbert的預訓練模型(https://huggingface.co/shibing624/macbert4csc-base-chinese)將sentence_list當做input，訓練模型預測ground_truth_sentence的output。\n",
        "\n",
        "二、Ensemble model：接著我們以k=5進行kfold訓練5個模型，最後將這5個模型ensemble成最終的模型。\n",
        "\n",
        "三、訓練時使用patience為3的ReduceLROnPlateau及patience為5的EarlyStopping，最佳模型的選擇方式是比較驗證集的cer，愈小視為愈佳。"
      ],
      "metadata": {
        "id": "XXZ2M9E56mwK"
      },
      "id": "XXZ2M9E56mwK"
    },
    {
      "cell_type": "code",
      "source": [
        "%cd /content/esun_ai_2022_summer_demo/model-spec/model"
      ],
      "metadata": {
        "id": "nNV0d5MTj_QN"
      },
      "id": "nNV0d5MTj_QN",
      "execution_count": null,
      "outputs": []
    },
    {
      "cell_type": "code",
      "source": [
        "os.makedirs(name='/content/checkpoint/0',\n",
        "            exist_ok=True)\n",
        "# 可以從頭訓練模型 (kfold 1/5)\n",
        "\"\"\"\n",
        "!python ./training.py --accelerator gpu\\\n",
        "                      --accumulate_grad_batches 1\\\n",
        "                      --benchmark\\\n",
        "                      --device 1\\\n",
        "                      --log_every_n_steps 1\\\n",
        "                      --max_epochs 100\\\n",
        "                      --model_name shibing624/macbert4csc-base-chinese\\\n",
        "                      --data_path /content/data/esun_ai_2022_summer_20220415.txt\\\n",
        "                      --batch_size 64\\\n",
        "                      --max_length 128\\\n",
        "                      --lr 5e-6\\\n",
        "                      --split 0\\\n",
        "                      --checkpoint_output_dir /content/checkpoint\n",
        "\"\"\"\n",
        "# 或是下載已經訓練好的模型 (kfold 1/5)\n",
        "gdown_download(id='18ZYoxskrvV4Y6EFoiLPowV4z3AGV_OcR',\n",
        "               output_dir='/tmp',\n",
        "               output_file_name='transformers_0.zip')\n",
        "!unzip /tmp/transformers_0.zip -d /content/checkpoint/0\n",
        "!mv /content/checkpoint/0/transformers/* /content/checkpoint/0"
      ],
      "metadata": {
        "id": "gT8MTdi7k7dy"
      },
      "id": "gT8MTdi7k7dy",
      "execution_count": null,
      "outputs": []
    },
    {
      "cell_type": "code",
      "source": [
        "os.makedirs(name='/content/checkpoint/1',\n",
        "            exist_ok=True)\n",
        "# 可以從頭訓練模型 (kfold 2/5)\n",
        "\"\"\"\n",
        "!python ./training.py --accelerator gpu\\\n",
        "                      --accumulate_grad_batches 1\\\n",
        "                      --benchmark\\\n",
        "                      --device 1\\\n",
        "                      --log_every_n_steps 1\\\n",
        "                      --max_epochs 100\\\n",
        "                      --model_name shibing624/macbert4csc-base-chinese\\\n",
        "                      --data_path /content/data/esun_ai_2022_summer_20220415.txt\\\n",
        "                      --batch_size 64\\\n",
        "                      --max_length 128\\\n",
        "                      --lr 5e-6\\\n",
        "                      --split 1\\\n",
        "                      --checkpoint_output_dir /content/checkpoint\n",
        "\"\"\"\n",
        "# 或是下載已經訓練好的模型 (kfold 2/5)\n",
        "gdown_download(id='1e-jeIaDGEJUdYuQT1gwLm5EGiELSS6os',\n",
        "               output_dir='/tmp',\n",
        "               output_file_name='transformers_1.zip')\n",
        "!unzip /tmp/transformers_1.zip -d /content/checkpoint/1\n",
        "!mv /content/checkpoint/1/transformers/* /content/checkpoint/1"
      ],
      "metadata": {
        "id": "hwOw1hUAuYHF"
      },
      "id": "hwOw1hUAuYHF",
      "execution_count": null,
      "outputs": []
    },
    {
      "cell_type": "code",
      "source": [
        "os.makedirs(name='/content/checkpoint/2',\n",
        "            exist_ok=True)\n",
        "# 可以從頭訓練模型 (kfold 3/5)\n",
        "\"\"\"\n",
        "!python ./training.py --accelerator gpu\\\n",
        "                      --accumulate_grad_batches 1\\\n",
        "                      --benchmark\\\n",
        "                      --device 1\\\n",
        "                      --log_every_n_steps 1\\\n",
        "                      --max_epochs 100\\\n",
        "                      --model_name shibing624/macbert4csc-base-chinese\\\n",
        "                      --data_path /content/data/esun_ai_2022_summer_20220415.txt\\\n",
        "                      --batch_size 64\\\n",
        "                      --max_length 128\\\n",
        "                      --lr 5e-6\\\n",
        "                      --split 2\\\n",
        "                      --checkpoint_output_dir /content/checkpoint\n",
        "\"\"\"\n",
        "# 或是下載已經訓練好的模型 (kfold 3/5)\n",
        "gdown_download(id='1V4KQkaNcBH_fY8-MrMXrQ5H09fXPrCUs',\n",
        "               output_dir='/tmp',\n",
        "               output_file_name='transformers_2.zip')\n",
        "!unzip /tmp/transformers_2.zip -d /content/checkpoint/2\n",
        "!mv /content/checkpoint/2/transformers/* /content/checkpoint/2"
      ],
      "metadata": {
        "id": "VCQuVSNBLzL4"
      },
      "id": "VCQuVSNBLzL4",
      "execution_count": null,
      "outputs": []
    },
    {
      "cell_type": "code",
      "source": [
        "os.makedirs(name='/content/checkpoint/3',\n",
        "            exist_ok=True)\n",
        "# 可以從頭訓練模型 (kfold 4/5)\n",
        "\"\"\"\n",
        "!python ./training.py --accelerator gpu\\\n",
        "                      --accumulate_grad_batches 1\\\n",
        "                      --benchmark\\\n",
        "                      --device 1\\\n",
        "                      --log_every_n_steps 1\\\n",
        "                      --max_epochs 100\\\n",
        "                      --model_name shibing624/macbert4csc-base-chinese\\\n",
        "                      --data_path /content/data/esun_ai_2022_summer_20220415.txt\\\n",
        "                      --batch_size 64\\\n",
        "                      --max_length 128\\\n",
        "                      --lr 5e-6\\\n",
        "                      --split 3\\\n",
        "                      --checkpoint_output_dir /content/checkpoint\n",
        "\"\"\"\n",
        "# 或是下載已經訓練好的模型 (kfold 4/5)\n",
        "gdown_download(id='1sFyki6Z-wQpgEs0tHhlANptG-Te6WTTR',\n",
        "               output_dir='/tmp',\n",
        "               output_file_name='transformers_3.zip')\n",
        "!unzip /tmp/transformers_3.zip -d /content/checkpoint/3\n",
        "!mv /content/checkpoint/3/transformers/* /content/checkpoint/3"
      ],
      "metadata": {
        "id": "n-Lh0NSpNo4c"
      },
      "id": "n-Lh0NSpNo4c",
      "execution_count": null,
      "outputs": []
    },
    {
      "cell_type": "code",
      "source": [
        "os.makedirs(name='/content/checkpoint/4',\n",
        "            exist_ok=True)\n",
        "# 可以從頭訓練模型 (kfold 5/5)\n",
        "\"\"\"\n",
        "!python ./training.py --accelerator gpu\\\n",
        "                      --accumulate_grad_batches 1\\\n",
        "                      --benchmark\\\n",
        "                      --device 1\\\n",
        "                      --log_every_n_steps 1\\\n",
        "                      --max_epochs 100\\\n",
        "                      --model_name shibing624/macbert4csc-base-chinese\\\n",
        "                      --data_path /content/data/esun_ai_2022_summer_20220415.txt\\\n",
        "                      --batch_size 64\\\n",
        "                      --max_length 128\\\n",
        "                      --lr 5e-6\\\n",
        "                      --split 4\\\n",
        "                      --checkpoint_output_dir /content/checkpoint\n",
        "\"\"\"\n",
        "# 或是下載已經訓練好的模型 (kfold 5/5)\n",
        "gdown_download(id='1vMwN966NXnyD6Clre3nwNEfrLcdsvERW',\n",
        "               output_dir='/tmp',\n",
        "               output_file_name='transformers_4.zip')\n",
        "!unzip /tmp/transformers_4.zip -d /content/checkpoint/4\n",
        "!mv /content/checkpoint/4/transformers/* /content/checkpoint/4"
      ],
      "metadata": {
        "id": "MkpAKiGhPFJd"
      },
      "id": "MkpAKiGhPFJd",
      "execution_count": null,
      "outputs": []
    },
    {
      "cell_type": "markdown",
      "source": [
        "# 模型推論"
      ],
      "metadata": {
        "id": "RpjCk2CntBKl"
      },
      "id": "RpjCk2CntBKl"
    },
    {
      "cell_type": "markdown",
      "source": [
        "一、 語音矯正：ensemble模型推論出一段句子中每個字的位置替換成其他字的機率後，我們會以input句子中每個字的發音決定最後可能的替代字及其機率，例如：\n",
        "\n",
        "輸入：可能導致不是泡沫在見\n",
        "\n",
        "原始輸出：可能導致房市泡沫再現 (這邊以字代替logits方便說明)\n",
        "\n",
        "修正後輸出：可能導致股市泡沫再現 (因為只會選logits結果中與”不”的音相近的字，因此最後”股”是在這個限制條件下機率最大的字)\n",
        "\n",
        "二、回傳推論結果：最後將sentence_list中各sentence推論的結果中，各字的機率做平均，取分數最高的sentence視為本次推論的結果。\n"
      ],
      "metadata": {
        "id": "ezOQ_NM68Hr5"
      },
      "id": "ezOQ_NM68Hr5"
    },
    {
      "cell_type": "code",
      "source": [
        "%cd /content/esun_ai_2022_summer_demo/model-spec/inference"
      ],
      "metadata": {
        "id": "yzAqN2P0Jnef"
      },
      "id": "yzAqN2P0Jnef",
      "execution_count": null,
      "outputs": []
    },
    {
      "cell_type": "code",
      "source": [
        "!python ./inference.py --request '{\"esun_uuid\": \"adefb7e8d9268b972b95b6fa53db93780b6b22fbf\", \"esun_timestamp\": 1590493849, \"sentence_list\": [\"喂 你好 密碼 我 要 進去\", \"喂 你好 密碼 哇 進去\", \"喂 你好 密碼 的 話 進去\", \"喂 您好 密碼 我 要 進去\", \"喂 你好 密碼 無法 進去\", \"喂 你好 密碼 waa 進去\", \"喂 你好 密碼 while 進去\", \"喂 你好 密碼 文化 進去\", \"喂 你好 密碼 挖 進去\", \"喂 您好 密碼 哇 進去\"], \"phoneme_sequence_list\": [\"w eI4 n i:3 x aU4 m i:4 m A:3 w O:3 j aU1 ts6 j ax n4 ts6_h y4\", \"w eI4 n i:3 x aU4 m i:4 m A:3 w A:1 ts6 j ax n4 ts6_h y4\", \"w eI4 n i:3 x aU4 m i:4 m A:3 t ax5 x w A:4 ts6 j ax n4 ts6_h y4\", \"w eI4 n j ax n2 x aU4 m i:4 m A:3 w O:3 j aU1 ts6 j ax n4 ts6_h y4\", \"w eI4 n i:3 x aU4 m i:4 m A:3 u:2 f A:4 ts6 j ax n4 ts6_h y4\", \"w eI4 n i:3 x aU4 m i:4 m A:3 W AA1 ts6 j ax n4 ts6_h y4\", \"w eI4 n i:3 x aU4 m i:4 m A:3 W AY1 L ts6 j ax n4 ts6_h y4\", \"w eI4 n i:3 x aU4 m i:4 m A:3 w ax n2 x w A:4 ts6 j ax n4 ts6_h y4\", \"w eI4 n j ax n2 x aU4 m i:4 m A:3 w A:1 ts6 j ax n4 ts6_h y4\", \"w eI4 n i:3 x aU4 m i:4 m A:3 W IH1 L ts6 j ax n4 ts6_h y4\"], \"retry\": 2}'\\\n",
        "                      --char_to_similarity_bert_ids_file_path /content/data/char_to_similarity_bert_ids.json\\\n",
        "                      --checkpoints /content/checkpoint/0 /content/checkpoint/1 /content/checkpoint/2 /content/checkpoint/3 /content/checkpoint/4\\\n",
        "                      --device cuda"
      ],
      "metadata": {
        "id": "XMgpLGPetJC5"
      },
      "id": "XMgpLGPetJC5",
      "execution_count": null,
      "outputs": []
    },
    {
      "cell_type": "markdown",
      "source": [
        "# api測試"
      ],
      "metadata": {
        "id": "C2f5cPsAxHqM"
      },
      "id": "C2f5cPsAxHqM"
    },
    {
      "cell_type": "markdown",
      "source": [
        "比賽的api使用docker打包：<a href=\"https://github.com/hsiehpinghan/esun_ai_2022_summer\">比賽時用的api github</a>  \n",
        "這裡為了方便驗證，所以直接在colab上起flask。"
      ],
      "metadata": {
        "id": "XpS9TquI8fsg"
      },
      "id": "XpS9TquI8fsg"
    },
    {
      "cell_type": "code",
      "source": [
        "%cd /content/esun_ai_2022_summer_demo/model-spec"
      ],
      "metadata": {
        "id": "WUy8nrMkxJks"
      },
      "id": "WUy8nrMkxJks",
      "execution_count": null,
      "outputs": []
    },
    {
      "cell_type": "code",
      "source": [
        "import torch\n",
        "import hashlib\n",
        "\n",
        "from flask import request\n",
        "from flask import jsonify\n",
        "from flask import Blueprint\n",
        "from datetime import datetime\n",
        "from inference.inference import get_model\n",
        "from inference.inference import get_answer\n",
        "from inference.inference import get_tokenizer\n",
        "\n",
        "from flask import Flask\n",
        "from flask_ngrok import run_with_ngrok\n",
        "\n",
        "bp = Blueprint('api', __name__, url_prefix='')\n",
        "checkpoints = ['/content/checkpoint/0',\n",
        "               '/content/checkpoint/1',\n",
        "               '/content/checkpoint/2',\n",
        "               '/content/checkpoint/3',\n",
        "               '/content/checkpoint/4'] \n",
        "device = torch.device('cuda' if torch.cuda.is_available() else 'cpu')\n",
        "tokenizer = get_tokenizer(checkpoints=checkpoints)\n",
        "model = get_model(checkpoints=checkpoints,\n",
        "                  device=device)\n",
        "\n",
        "@bp.route('/inference', methods=['POST'])\n",
        "def inference():\n",
        "    data = request.get_json(force=True)\n",
        "    answer = get_answer(tokenizer=tokenizer,\n",
        "                        model=model,\n",
        "                        request=data,\n",
        "                        char_to_similarity_bert_ids_file_path='/content/data/char_to_similarity_bert_ids.json',\n",
        "                        device=device)\n",
        "    resp = {'esun_uuid': data['esun_uuid'],\n",
        "            'server_uuid': generate_server_uuid(),\n",
        "            'server_timestamp': generate_server_timestamp(),\n",
        "            'answer': answer}\n",
        "    output = jsonify(resp)\n",
        "    return output\n",
        "\n",
        "def generate_server_uuid():\n",
        "    s = hashlib.sha256()\n",
        "    data = str(int(datetime.now().utcnow().timestamp())).encode('utf-8')\n",
        "    s.update(data)\n",
        "    server_uuid = s.hexdigest()\n",
        "    return server_uuid\n",
        "\n",
        "def generate_server_timestamp():\n",
        "    return int(datetime.now().utcnow().timestamp())\n",
        "\n",
        "if __name__ == '__main__':\n",
        "    app = Flask(__name__)\n",
        "    app.register_blueprint(bp)\n",
        "    run_with_ngrok(app)\n",
        "    app.run()"
      ],
      "metadata": {
        "id": "nec28OWX0KXF"
      },
      "id": "nec28OWX0KXF",
      "execution_count": null,
      "outputs": []
    },
    {
      "cell_type": "markdown",
      "source": [
        "請將上面cell中位於下圖紅框位置的url替換以下字串的\" http://427c-35-204-237-136.ngrok.io\"，然後就可以測試呼叫這個api。\n",
        "\n",
        "curl -v -X POST -H \"Content-Type: application/json\" -d '{\"esun_uuid\": \"adefb7e8d9268b972b95b6fa53db93780b6b22fbf\",\"esun_timestamp\": 1590493849,\"sentence_list\": [\"喂 你好 密碼 我 要 進去\",\"喂 你好 密碼 哇 進去\",\"喂 你好 密碼 的 話 進去\",\"喂 您好 密碼 我 要 進去\",\"喂 你好 密碼 無法 進去\",\"喂 你好 密碼 waa 進去\",\"喂 你好 密碼 while 進去\",\"喂 你好 密碼 文化 進去\",\"喂 你好 密碼 挖 進去\",\"喂 您好 密碼 哇 進去\"],\"phoneme_sequence_list\": [\"w eI4 n i:3 x aU4 m i:4 m A:3 w O:3 j aU1 ts6 j ax n4 ts6_h y4\",\"w eI4 n i:3 x aU4 m i:4 m A:3 w A:1 ts6 j ax n4 ts6_h y4\",\"w eI4 n i:3 x aU4 m i:4 m A:3 t ax5 x w A:4 ts6 j ax n4 ts6_h y4\",\"w eI4 n j ax n2 x aU4 m i:4 m A:3 w O:3 j aU1 ts6 j ax n4 ts6_h y4\",\"w eI4 n i:3 x aU4 m i:4 m A:3 u:2 f A:4 ts6 j ax n4 ts6_h y4\",\"w eI4 n i:3 x aU4 m i:4 m A:3 W AA1 ts6 j ax n4 ts6_h y4\",\"w eI4 n i:3 x aU4 m i:4 m A:3 W AY1 L ts6 j ax n4 ts6_h y4\",\"w eI4 n i:3 x aU4 m i:4 m A:3 w ax n2 x w A:4 ts6 j ax n4 ts6_h y4\",\"w eI4 n j ax n2 x aU4 m i:4 m A:3 w A:1 ts6 j ax n4 ts6_h y4\",\"w eI4 n i:3 x aU4 m i:4 m A:3 W IH1 L ts6 j ax n4 ts6_h y4\"],\"retry\": 2}' http://427c-35-204-237-136.ngrok.io/inference -w %{time_connect}:%{time_starttransfer}:%{time_total}"
      ],
      "metadata": {
        "id": "NEuKMt-h9rc_"
      },
      "id": "NEuKMt-h9rc_"
    },
    {
      "cell_type": "markdown",
      "source": [
        "![image.png](data:image/png;base64,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)"
      ],
      "metadata": {
        "id": "wsDqOAlg9or3"
      },
      "id": "wsDqOAlg9or3"
    }
  ],
  "metadata": {
    "kernelspec": {
      "display_name": "Python 3 (ipykernel)",
      "language": "python",
      "name": "python3"
    },
    "language_info": {
      "codemirror_mode": {
        "name": "ipython",
        "version": 3
      },
      "file_extension": ".py",
      "mimetype": "text/x-python",
      "name": "python",
      "nbconvert_exporter": "python",
      "pygments_lexer": "ipython3",
      "version": "3.7.13"
    },
    "colab": {
      "name": "demo.ipynb",
      "provenance": [],
      "machine_shape": "hm"
    },
    "accelerator": "GPU",
    "gpuClass": "standard"
  },
  "nbformat": 4,
  "nbformat_minor": 5
}