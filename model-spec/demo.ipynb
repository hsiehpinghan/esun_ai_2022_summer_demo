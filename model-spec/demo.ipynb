{
  "cells": [
    {
      "cell_type": "code",
      "source": [
        "!nvidia-smi"
      ],
      "metadata": {
        "id": "7o5nEWg6mGDD"
      },
      "id": "7o5nEWg6mGDD",
      "execution_count": null,
      "outputs": []
    },
    {
      "cell_type": "code",
      "execution_count": null,
      "id": "0dc57d3d",
      "metadata": {
        "id": "0dc57d3d"
      },
      "outputs": [],
      "source": [
        "!git clone https://github.com/hsiehpinghan/esun_ai_2022_summer_demo.git"
      ]
    },
    {
      "cell_type": "code",
      "source": [
        "!pip install -r /content/esun_ai_2022_summer_demo/model-spec/requirements.txt"
      ],
      "metadata": {
        "id": "UNYeoZVWl62d"
      },
      "id": "UNYeoZVWl62d",
      "execution_count": null,
      "outputs": []
    },
    {
      "cell_type": "code",
      "source": [
        "from google.colab import files"
      ],
      "metadata": {
        "id": "C_MhJ6EqmELD"
      },
      "id": "C_MhJ6EqmELD",
      "execution_count": null,
      "outputs": []
    },
    {
      "cell_type": "code",
      "source": [
        "# upload \"2022summer_train_data.zip\"\n",
        "uploaded = files.upload()\n",
        "\n",
        "for fn in uploaded.keys():\n",
        "  print('User uploaded file \"{name}\" with length {length} bytes'.format(\n",
        "      name=fn, length=len(uploaded[fn])))"
      ],
      "metadata": {
        "id": "qqBD6Dwlqiu9"
      },
      "id": "qqBD6Dwlqiu9",
      "execution_count": null,
      "outputs": []
    },
    {
      "cell_type": "markdown",
      "source": [
        "# data preprocess"
      ],
      "metadata": {
        "id": "LFC-ke-Wpy6e"
      },
      "id": "LFC-ke-Wpy6e"
    },
    {
      "cell_type": "code",
      "source": [
        "%cd /content/esun_ai_2022_summer_demo/model-spec/data_preprocess"
      ],
      "metadata": {
        "id": "nyWTmqwSp4Li"
      },
      "id": "nyWTmqwSp4Li",
      "execution_count": null,
      "outputs": []
    },
    {
      "cell_type": "code",
      "source": [
        "!python ./data_preprocess.py --esun_data_path /content/2022summer_train_data.zip\\\n",
        "                             --extract_dir /content/data"
      ],
      "metadata": {
        "id": "nTtj4rv8i_rX"
      },
      "id": "nTtj4rv8i_rX",
      "execution_count": null,
      "outputs": []
    },
    {
      "cell_type": "markdown",
      "source": [
        "# model"
      ],
      "metadata": {
        "id": "c8adPqMskhnG"
      },
      "id": "c8adPqMskhnG"
    },
    {
      "cell_type": "code",
      "source": [
        "%cd /content/esun_ai_2022_summer_demo/model-spec/model"
      ],
      "metadata": {
        "id": "nNV0d5MTj_QN"
      },
      "id": "nNV0d5MTj_QN",
      "execution_count": null,
      "outputs": []
    },
    {
      "cell_type": "code",
      "source": [
        "# train sub_model 0\n",
        "!python ./training.py --accelerator gpu\\\n",
        "                      --accumulate_grad_batches 1\\\n",
        "                      --benchmark\\\n",
        "                      --device 1\\\n",
        "                      --log_every_n_steps 1\\\n",
        "                      --max_epochs 100\\\n",
        "                      --model_name shibing624/macbert4csc-base-chinese\\\n",
        "                      --data_path /content/data/esun_ai_2022_summer_20220415.txt\\\n",
        "                      --batch_size 64\\\n",
        "                      --max_length 128\\\n",
        "                      --lr 5e-6\\\n",
        "                      --split 0\\\n",
        "                      --checkpoint_output_dir /content/checkpoint"
      ],
      "metadata": {
        "id": "gT8MTdi7k7dy"
      },
      "id": "gT8MTdi7k7dy",
      "execution_count": null,
      "outputs": []
    },
    {
      "cell_type": "code",
      "source": [
        "!ls /content/"
      ],
      "metadata": {
        "id": "hwOw1hUAuYHF"
      },
      "id": "hwOw1hUAuYHF",
      "execution_count": null,
      "outputs": []
    }
  ],
  "metadata": {
    "kernelspec": {
      "display_name": "Python 3 (ipykernel)",
      "language": "python",
      "name": "python3"
    },
    "language_info": {
      "codemirror_mode": {
        "name": "ipython",
        "version": 3
      },
      "file_extension": ".py",
      "mimetype": "text/x-python",
      "name": "python",
      "nbconvert_exporter": "python",
      "pygments_lexer": "ipython3",
      "version": "3.7.13"
    },
    "colab": {
      "name": "demo.ipynb",
      "provenance": [],
      "machine_shape": "hm"
    },
    "accelerator": "GPU",
    "gpuClass": "standard"
  },
  "nbformat": 4,
  "nbformat_minor": 5
}