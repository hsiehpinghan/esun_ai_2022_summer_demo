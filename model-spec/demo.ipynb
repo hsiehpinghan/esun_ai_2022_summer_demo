{
  "cells": [
    {
      "cell_type": "markdown",
      "metadata": {
        "id": "view-in-github",
        "colab_type": "text"
      },
      "source": [
        "<a href=\"https://colab.research.google.com/github/hsiehpinghan/esun_ai_2022_summer_demo/blob/master/model-spec/demo.ipynb\" target=\"_parent\"><img src=\"https://colab.research.google.com/assets/colab-badge.svg\" alt=\"Open In Colab\"/></a>"
      ]
    },
    {
      "cell_type": "code",
      "source": [
        "!nvidia-smi"
      ],
      "metadata": {
        "id": "7o5nEWg6mGDD"
      },
      "id": "7o5nEWg6mGDD",
      "execution_count": null,
      "outputs": []
    },
    {
      "cell_type": "code",
      "source": [
        "#%cd /content\n",
        "#!rm -rf esun_ai_2022_summer_demo"
      ],
      "metadata": {
        "id": "_4bzPYAKEgfy"
      },
      "id": "_4bzPYAKEgfy",
      "execution_count": null,
      "outputs": []
    },
    {
      "cell_type": "code",
      "execution_count": null,
      "id": "0dc57d3d",
      "metadata": {
        "id": "0dc57d3d"
      },
      "outputs": [],
      "source": [
        "!git clone https://github.com/hsiehpinghan/esun_ai_2022_summer_demo.git"
      ]
    },
    {
      "cell_type": "code",
      "source": [
        "!pip install -r /content/esun_ai_2022_summer_demo/model-spec/requirements.txt"
      ],
      "metadata": {
        "id": "UNYeoZVWl62d"
      },
      "id": "UNYeoZVWl62d",
      "execution_count": null,
      "outputs": []
    },
    {
      "cell_type": "code",
      "source": [
        "import os\n",
        "import gdown\n",
        "\n",
        "from google.colab import files"
      ],
      "metadata": {
        "id": "C_MhJ6EqmELD"
      },
      "id": "C_MhJ6EqmELD",
      "execution_count": null,
      "outputs": []
    },
    {
      "cell_type": "code",
      "source": [
        "# upload \"2022summer_train_data.zip\"\n",
        "uploaded = files.upload()\n",
        "\n",
        "for fn in uploaded.keys():\n",
        "  print('User uploaded file \"{name}\" with length {length} bytes'.format(\n",
        "      name=fn, length=len(uploaded[fn])))"
      ],
      "metadata": {
        "id": "qqBD6Dwlqiu9"
      },
      "id": "qqBD6Dwlqiu9",
      "execution_count": null,
      "outputs": []
    },
    {
      "cell_type": "code",
      "source": [
        "def gdown_download(id, output_dir, output_file_name):\n",
        "    os.makedirs(name=output_dir,\n",
        "                exist_ok=True)\n",
        "    gdown.download(url=f'https://drive.google.com/uc?id={id}', \n",
        "                   output = os.path.join(output_dir, output_file_name), \n",
        "                   quiet = False)"
      ],
      "metadata": {
        "id": "cPEk_TSez0sT"
      },
      "id": "cPEk_TSez0sT",
      "execution_count": null,
      "outputs": []
    },
    {
      "cell_type": "markdown",
      "source": [
        "# data preprocess"
      ],
      "metadata": {
        "id": "LFC-ke-Wpy6e"
      },
      "id": "LFC-ke-Wpy6e"
    },
    {
      "cell_type": "code",
      "source": [
        "%cd /content/esun_ai_2022_summer_demo/model-spec/data_preprocess"
      ],
      "metadata": {
        "id": "nyWTmqwSp4Li"
      },
      "id": "nyWTmqwSp4Li",
      "execution_count": null,
      "outputs": []
    },
    {
      "cell_type": "code",
      "source": [
        "!python ./data_preprocess.py --esun_data_path /content/2022summer_train_data.zip\\\n",
        "                             --extract_dir /content/data\\\n",
        "                             --limit_per_sentence 1\\\n",
        "                             --char_to_similarity_bert_ids_file_path /content/data/char_to_similarity_bert_ids.json"
      ],
      "metadata": {
        "id": "nTtj4rv8i_rX"
      },
      "id": "nTtj4rv8i_rX",
      "execution_count": null,
      "outputs": []
    },
    {
      "cell_type": "markdown",
      "source": [
        "# model"
      ],
      "metadata": {
        "id": "c8adPqMskhnG"
      },
      "id": "c8adPqMskhnG"
    },
    {
      "cell_type": "code",
      "source": [
        "%cd /content/esun_ai_2022_summer_demo/model-spec/model"
      ],
      "metadata": {
        "id": "nNV0d5MTj_QN"
      },
      "id": "nNV0d5MTj_QN",
      "execution_count": null,
      "outputs": []
    },
    {
      "cell_type": "code",
      "source": [
        "# train sub_model 0\n",
        "\"\"\"\n",
        "!python ./training.py --accelerator gpu\\\n",
        "                      --accumulate_grad_batches 1\\\n",
        "                      --benchmark\\\n",
        "                      --device 1\\\n",
        "                      --log_every_n_steps 1\\\n",
        "                      --max_epochs 1\\\n",
        "                      --model_name shibing624/macbert4csc-base-chinese\\\n",
        "                      --data_path /content/data/esun_ai_2022_summer_20220415.txt\\\n",
        "                      --batch_size 64\\\n",
        "                      --max_length 128\\\n",
        "                      --lr 5e-6\\\n",
        "                      --split 0\\\n",
        "                      --checkpoint_output_dir /content/checkpoint\n",
        "\"\"\"\n",
        "gdown_download(id='18ZYoxskrvV4Y6EFoiLPowV4z3AGV_OcR',\n",
        "               output_dir='/tmp',\n",
        "               output_file_name='transformers_0.zip')\n",
        "!unzip /tmp/transformers_0.zip -d /content/checkpoint/0\n",
        "!mv /content/checkpoint/0/transformers/* /content/checkpoint/0"
      ],
      "metadata": {
        "id": "gT8MTdi7k7dy"
      },
      "id": "gT8MTdi7k7dy",
      "execution_count": null,
      "outputs": []
    },
    {
      "cell_type": "code",
      "source": [
        "# train sub_model 1\n",
        "\"\"\"\n",
        "!python ./training.py --accelerator gpu\\\n",
        "                      --accumulate_grad_batches 1\\\n",
        "                      --benchmark\\\n",
        "                      --device 1\\\n",
        "                      --log_every_n_steps 1\\\n",
        "                      --max_epochs 1\\\n",
        "                      --model_name shibing624/macbert4csc-base-chinese\\\n",
        "                      --data_path /content/data/esun_ai_2022_summer_20220415.txt\\\n",
        "                      --batch_size 64\\\n",
        "                      --max_length 128\\\n",
        "                      --lr 5e-6\\\n",
        "                      --split 1\\\n",
        "                      --checkpoint_output_dir /content/checkpoint\n",
        "\"\"\"\n",
        "gdown_download(id='1e-jeIaDGEJUdYuQT1gwLm5EGiELSS6os',\n",
        "               output_dir='/tmp',\n",
        "               output_file_name='transformers_1.zip')\n",
        "!unzip /tmp/transformers_1.zip -d /content/checkpoint/1\n",
        "!mv /content/checkpoint/1/transformers/* /content/checkpoint/1"
      ],
      "metadata": {
        "id": "hwOw1hUAuYHF"
      },
      "id": "hwOw1hUAuYHF",
      "execution_count": null,
      "outputs": []
    },
    {
      "cell_type": "code",
      "source": [
        "# train sub_model 2\n",
        "\"\"\"\n",
        "!python ./training.py --accelerator gpu\\\n",
        "                      --accumulate_grad_batches 1\\\n",
        "                      --benchmark\\\n",
        "                      --device 1\\\n",
        "                      --log_every_n_steps 1\\\n",
        "                      --max_epochs 1\\\n",
        "                      --model_name shibing624/macbert4csc-base-chinese\\\n",
        "                      --data_path /content/data/esun_ai_2022_summer_20220415.txt\\\n",
        "                      --batch_size 64\\\n",
        "                      --max_length 128\\\n",
        "                      --lr 5e-6\\\n",
        "                      --split 2\\\n",
        "                      --checkpoint_output_dir /content/checkpoint\n",
        "\"\"\"\n",
        "gdown_download(id='1V4KQkaNcBH_fY8-MrMXrQ5H09fXPrCUs',\n",
        "               output_dir='/tmp',\n",
        "               output_file_name='transformers_2.zip')\n",
        "!unzip /tmp/transformers_2.zip -d /content/checkpoint/2\n",
        "!mv /content/checkpoint/2/transformers/* /content/checkpoint/2"
      ],
      "metadata": {
        "id": "VCQuVSNBLzL4"
      },
      "id": "VCQuVSNBLzL4",
      "execution_count": null,
      "outputs": []
    },
    {
      "cell_type": "code",
      "source": [
        "# train sub_model 3\n",
        "\"\"\"\n",
        "!python ./training.py --accelerator gpu\\\n",
        "                      --accumulate_grad_batches 1\\\n",
        "                      --benchmark\\\n",
        "                      --device 1\\\n",
        "                      --log_every_n_steps 1\\\n",
        "                      --max_epochs 1\\\n",
        "                      --model_name shibing624/macbert4csc-base-chinese\\\n",
        "                      --data_path /content/data/esun_ai_2022_summer_20220415.txt\\\n",
        "                      --batch_size 64\\\n",
        "                      --max_length 128\\\n",
        "                      --lr 5e-6\\\n",
        "                      --split 3\\\n",
        "                      --checkpoint_output_dir /content/checkpoint\n",
        "\"\"\"\n",
        "gdown_download(id='1sFyki6Z-wQpgEs0tHhlANptG-Te6WTTR',\n",
        "               output_dir='/tmp',\n",
        "               output_file_name='transformers_3.zip')\n",
        "!unzip /tmp/transformers_3.zip -d /content/checkpoint/3\n",
        "!mv /content/checkpoint/3/transformers/* /content/checkpoint/3"
      ],
      "metadata": {
        "id": "n-Lh0NSpNo4c"
      },
      "id": "n-Lh0NSpNo4c",
      "execution_count": null,
      "outputs": []
    },
    {
      "cell_type": "code",
      "source": [
        "# train sub_model 4\n",
        "\"\"\"\n",
        "!python ./training.py --accelerator gpu\\\n",
        "                      --accumulate_grad_batches 1\\\n",
        "                      --benchmark\\\n",
        "                      --device 1\\\n",
        "                      --log_every_n_steps 1\\\n",
        "                      --max_epochs 1\\\n",
        "                      --model_name shibing624/macbert4csc-base-chinese\\\n",
        "                      --data_path /content/data/esun_ai_2022_summer_20220415.txt\\\n",
        "                      --batch_size 64\\\n",
        "                      --max_length 128\\\n",
        "                      --lr 5e-6\\\n",
        "                      --split 4\\\n",
        "                      --checkpoint_output_dir /content/checkpoint\n",
        "\"\"\"\n",
        "gdown_download(id='1vMwN966NXnyD6Clre3nwNEfrLcdsvERW',\n",
        "               output_dir='/tmp',\n",
        "               output_file_name='transformers_4.zip')\n",
        "!unzip /tmp/transformers_4.zip -d /content/checkpoint/4\n",
        "!mv /content/checkpoint/4/transformers/* /content/checkpoint/4"
      ],
      "metadata": {
        "id": "MkpAKiGhPFJd"
      },
      "id": "MkpAKiGhPFJd",
      "execution_count": null,
      "outputs": []
    },
    {
      "cell_type": "markdown",
      "source": [
        "# inference"
      ],
      "metadata": {
        "id": "RpjCk2CntBKl"
      },
      "id": "RpjCk2CntBKl"
    },
    {
      "cell_type": "code",
      "source": [
        "%cd /content/esun_ai_2022_summer_demo/model-spec/inference"
      ],
      "metadata": {
        "id": "yzAqN2P0Jnef"
      },
      "id": "yzAqN2P0Jnef",
      "execution_count": null,
      "outputs": []
    },
    {
      "cell_type": "code",
      "source": [
        "!python ./inference.py --request '{\"esun_uuid\": \"adefb7e8d9268b972b95b6fa53db93780b6b22fbf\", \"esun_timestamp\": 1590493849, \"sentence_list\": [\"喂 你好 密碼 我 要 進去\", \"喂 你好 密碼 哇 進去\", \"喂 你好 密碼 的 話 進去\", \"喂 您好 密碼 我 要 進去\", \"喂 你好 密碼 無法 進去\", \"喂 你好 密碼 waa 進去\", \"喂 你好 密碼 while 進去\", \"喂 你好 密碼 文化 進去\", \"喂 你好 密碼 挖 進去\", \"喂 您好 密碼 哇 進去\"], \"phoneme_sequence_list\": [\"w eI4 n i:3 x aU4 m i:4 m A:3 w O:3 j aU1 ts6 j ax n4 ts6_h y4\", \"w eI4 n i:3 x aU4 m i:4 m A:3 w A:1 ts6 j ax n4 ts6_h y4\", \"w eI4 n i:3 x aU4 m i:4 m A:3 t ax5 x w A:4 ts6 j ax n4 ts6_h y4\", \"w eI4 n j ax n2 x aU4 m i:4 m A:3 w O:3 j aU1 ts6 j ax n4 ts6_h y4\", \"w eI4 n i:3 x aU4 m i:4 m A:3 u:2 f A:4 ts6 j ax n4 ts6_h y4\", \"w eI4 n i:3 x aU4 m i:4 m A:3 W AA1 ts6 j ax n4 ts6_h y4\", \"w eI4 n i:3 x aU4 m i:4 m A:3 W AY1 L ts6 j ax n4 ts6_h y4\", \"w eI4 n i:3 x aU4 m i:4 m A:3 w ax n2 x w A:4 ts6 j ax n4 ts6_h y4\", \"w eI4 n j ax n2 x aU4 m i:4 m A:3 w A:1 ts6 j ax n4 ts6_h y4\", \"w eI4 n i:3 x aU4 m i:4 m A:3 W IH1 L ts6 j ax n4 ts6_h y4\"], \"retry\": 2}'\\\n",
        "                      --char_to_similarity_bert_ids_file_path /content/data/char_to_similarity_bert_ids.json\\\n",
        "                      --checkpoints /content/checkpoint/0 /content/checkpoint/1 /content/checkpoint/2 /content/checkpoint/3 /content/checkpoint/4\\\n",
        "                      --device cuda"
      ],
      "metadata": {
        "id": "XMgpLGPetJC5"
      },
      "id": "XMgpLGPetJC5",
      "execution_count": null,
      "outputs": []
    },
    {
      "cell_type": "markdown",
      "source": [
        "# api"
      ],
      "metadata": {
        "id": "C2f5cPsAxHqM"
      },
      "id": "C2f5cPsAxHqM"
    },
    {
      "cell_type": "code",
      "source": [
        "%cd /content/esun_ai_2022_summer_demo/model-spec"
      ],
      "metadata": {
        "id": "WUy8nrMkxJks"
      },
      "id": "WUy8nrMkxJks",
      "execution_count": null,
      "outputs": []
    },
    {
      "cell_type": "code",
      "source": [
        "import torch\n",
        "import hashlib\n",
        "\n",
        "from flask import request\n",
        "from flask import jsonify\n",
        "from flask import Blueprint\n",
        "from datetime import datetime\n",
        "from inference.inference import get_model\n",
        "from inference.inference import get_answer\n",
        "from inference.inference import get_tokenizer\n",
        "\n",
        "from flask import Flask\n",
        "from flask_ngrok import run_with_ngrok\n",
        "\n",
        "bp = Blueprint('api', __name__, url_prefix='')\n",
        "checkpoints = ['/content/checkpoint/0',\n",
        "               '/content/checkpoint/1',\n",
        "               '/content/checkpoint/2',\n",
        "               '/content/checkpoint/3',\n",
        "               '/content/checkpoint/4'] \n",
        "device = torch.device('cuda' if torch.cuda.is_available() else 'cpu')\n",
        "tokenizer = get_tokenizer(checkpoints=checkpoints)\n",
        "model = get_model(checkpoints=checkpoints,\n",
        "                  device=device)\n",
        "\n",
        "@bp.route('/inference', methods=['POST'])\n",
        "def inference():\n",
        "    data = request.get_json(force=True)\n",
        "    answer = get_answer(tokenizer=tokenizer,\n",
        "                        model=model,\n",
        "                        request=data,\n",
        "                        char_to_similarity_bert_ids_file_path='/content/data/char_to_similarity_bert_ids.json',\n",
        "                        device=device)\n",
        "    resp = {'esun_uuid': data['esun_uuid'],\n",
        "            'server_uuid': generate_server_uuid(),\n",
        "            'server_timestamp': generate_server_timestamp(),\n",
        "            'answer': answer}\n",
        "    output = jsonify(resp)\n",
        "    return output\n",
        "\n",
        "def generate_server_uuid():\n",
        "    s = hashlib.sha256()\n",
        "    data = str(int(datetime.now().utcnow().timestamp())).encode('utf-8')\n",
        "    s.update(data)\n",
        "    server_uuid = s.hexdigest()\n",
        "    return server_uuid\n",
        "\n",
        "def generate_server_timestamp():\n",
        "    return int(datetime.now().utcnow().timestamp())\n",
        "\n",
        "if __name__ == '__main__':\n",
        "    app = Flask(__name__)\n",
        "    app.register_blueprint(bp)\n",
        "    run_with_ngrok(app)\n",
        "    app.run()"
      ],
      "metadata": {
        "id": "nec28OWX0KXF"
      },
      "id": "nec28OWX0KXF",
      "execution_count": null,
      "outputs": []
    },
    {
      "cell_type": "code",
      "source": [
        "curl -v -X POST -H \"Content-Type: application/json\" -d '{\"esun_uuid\": \"adefb7e8d9268b972b95b6fa53db93780b6b22fbf\",\"esun_timestamp\": 1590493849,\"sentence_list\": [\"喂 你好 密碼 我 要 進去\",\"喂 你好 密碼 哇 進去\",\"喂 你好 密碼 的 話 進去\",\"喂 您好 密碼 我 要 進去\",\"喂 你好 密碼 無法 進去\",\"喂 你好 密碼 waa 進去\",\"喂 你好 密碼 while 進去\",\"喂 你好 密碼 文化 進去\",\"喂 你好 密碼 挖 進去\",\"喂 您好 密碼 哇 進去\"],\"phoneme_sequence_list\": [\"w eI4 n i:3 x aU4 m i:4 m A:3 w O:3 j aU1 ts6 j ax n4 ts6_h y4\",\"w eI4 n i:3 x aU4 m i:4 m A:3 w A:1 ts6 j ax n4 ts6_h y4\",\"w eI4 n i:3 x aU4 m i:4 m A:3 t ax5 x w A:4 ts6 j ax n4 ts6_h y4\",\"w eI4 n j ax n2 x aU4 m i:4 m A:3 w O:3 j aU1 ts6 j ax n4 ts6_h y4\",\"w eI4 n i:3 x aU4 m i:4 m A:3 u:2 f A:4 ts6 j ax n4 ts6_h y4\",\"w eI4 n i:3 x aU4 m i:4 m A:3 W AA1 ts6 j ax n4 ts6_h y4\",\"w eI4 n i:3 x aU4 m i:4 m A:3 W AY1 L ts6 j ax n4 ts6_h y4\",\"w eI4 n i:3 x aU4 m i:4 m A:3 w ax n2 x w A:4 ts6 j ax n4 ts6_h y4\",\"w eI4 n j ax n2 x aU4 m i:4 m A:3 w A:1 ts6 j ax n4 ts6_h y4\",\"w eI4 n i:3 x aU4 m i:4 m A:3 W IH1 L ts6 j ax n4 ts6_h y4\"],\"retry\": 2}' http://40ba-35-201-208-119.ngrok.io/inference -w %{time_connect}:%{time_starttransfer}:%{time_total}"
      ],
      "metadata": {
        "id": "7DsdfQ3r0KTh"
      },
      "id": "7DsdfQ3r0KTh",
      "execution_count": null,
      "outputs": []
    }
  ],
  "metadata": {
    "kernelspec": {
      "display_name": "Python 3 (ipykernel)",
      "language": "python",
      "name": "python3"
    },
    "language_info": {
      "codemirror_mode": {
        "name": "ipython",
        "version": 3
      },
      "file_extension": ".py",
      "mimetype": "text/x-python",
      "name": "python",
      "nbconvert_exporter": "python",
      "pygments_lexer": "ipython3",
      "version": "3.7.13"
    },
    "colab": {
      "name": "demo.ipynb",
      "provenance": [],
      "machine_shape": "hm",
      "include_colab_link": true
    },
    "accelerator": "GPU",
    "gpuClass": "standard"
  },
  "nbformat": 4,
  "nbformat_minor": 5
}